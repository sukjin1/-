{
  "nbformat": 4,
  "nbformat_minor": 0,
  "metadata": {
    "colab": {
      "provenance": [],
      "authorship_tag": "ABX9TyMDgaaoypbZtge2j9/Pmt0s",
      "include_colab_link": true
    },
    "kernelspec": {
      "name": "python3",
      "display_name": "Python 3"
    },
    "language_info": {
      "name": "python"
    }
  },
  "cells": [
    {
      "cell_type": "markdown",
      "metadata": {
        "id": "view-in-github",
        "colab_type": "text"
      },
      "source": [
        "<a href=\"https://colab.research.google.com/github/sukjin1/-/blob/main/%ED%9A%8C%EA%B7%80%EB%B6%84%EC%84%9D%EC%98%88%EC%A0%9C.ipynb\" target=\"_parent\"><img src=\"https://colab.research.google.com/assets/colab-badge.svg\" alt=\"Open In Colab\"/></a>"
      ]
    },
    {
      "cell_type": "code",
      "execution_count": 1,
      "metadata": {
        "colab": {
          "base_uri": "https://localhost:8080/"
        },
        "id": "koi1tsNHxY8Q",
        "outputId": "17bcbcf7-4731-43aa-bd0e-c84721d3cd5f"
      },
      "outputs": [
        {
          "output_type": "stream",
          "name": "stdout",
          "text": [
            "회귀 계수: [2.]\n",
            "절편: 0.0\n",
            "예측 결과: [12. 14. 16. 18. 20.]\n"
          ]
        }
      ],
      "source": [
        "import numpy as np\n",
        "from sklearn.linear_model import LinearRegression\n",
        "\n",
        "# 입력 데이터\n",
        "X = np.array([[1], [2], [3], [4], [5]])\n",
        "# 출력 데이터\n",
        "y = np.array([2, 4, 6, 8, 10])\n",
        "\n",
        "# 선형 회귀 모델 생성\n",
        "model = LinearRegression()\n",
        "\n",
        "# 모델 학습\n",
        "model.fit(X, y)\n",
        "\n",
        "# 테스트 데이터\n",
        "X_test = np.array([[6], [7], [8], [9], [10]])\n",
        "\n",
        "# 예측 결과\n",
        "y_pred = model.predict(X_test)\n",
        "\n",
        "# 회귀 계수와 절편\n",
        "coef = model.coef_\n",
        "intercept = model.intercept_\n",
        "\n",
        "# 결과 출력\n",
        "print(\"회귀 계수:\", coef)\n",
        "print(\"절편:\", intercept)\n",
        "print(\"예측 결과:\", y_pred)"
      ]
    }
  ]
}